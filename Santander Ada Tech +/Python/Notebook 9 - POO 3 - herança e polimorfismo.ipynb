{
 "cells": [
  {
   "cell_type": "markdown",
   "metadata": {
    "id": "hu9qQnqGoZCe"
   },
   "source": [
    "# Aula 9  - programação orientada a objetos 3\n",
    "\n",
    "Na aula de hoje, vamos explorar os seguintes tópicos em Python:\n",
    "\n",
    "- 1) Herança e Polimorfismo\n",
    "\n",
    "_____________\n",
    "\n",
    "### Problema gerador: como aproveitar classes já criadas para criar classes derivadas?"
   ]
  },
  {
   "cell_type": "code",
   "execution_count": 53,
   "metadata": {},
   "outputs": [],
   "source": [
    "class Animal:\n",
    "    def __init__(self, nome, idade):\n",
    "        self.nome = nome\n",
    "        self.idade = idade\n",
    "\n",
    "    def comer(self):\n",
    "        print(f\"{self.nome} está comendo.\")\n",
    "\n",
    "    def dormir(self):\n",
    "        print(f\"{self.nome} está dormindo.\")"
   ]
  },
  {
   "cell_type": "code",
   "execution_count": 54,
   "metadata": {},
   "outputs": [],
   "source": [
    "class Cachorro(Animal):  # Cachorro herda de Animal\n",
    "    def __init__(self, nome, idade, raca):\n",
    "        super().__init__(nome, idade)  # Chama o construtor da classe pai\n",
    "        self.raca = raca\n",
    "\n",
    "    def latir(self):\n",
    "        print(f\"{self.nome} está latindo: Au au!\")"
   ]
  },
  {
   "cell_type": "code",
   "execution_count": 55,
   "metadata": {},
   "outputs": [
    {
     "name": "stdout",
     "output_type": "stream",
     "text": [
      "Rex está comendo.\n",
      "Rex está latindo: Au au!\n",
      "Raça do Rex: Pastor Alemão\n"
     ]
    }
   ],
   "source": [
    "meu_cachorro = Cachorro(\"Rex\", 3, \"Pastor Alemão\")\n",
    "meu_cachorro.comer()  # Método herdado de Animal\n",
    "meu_cachorro.latir()  # Método específico de Cachorro\n",
    "print(f\"Raça do {meu_cachorro.nome}: {meu_cachorro.raca}\")"
   ]
  },
  {
   "cell_type": "code",
   "execution_count": 56,
   "metadata": {},
   "outputs": [
    {
     "name": "stdout",
     "output_type": "stream",
     "text": [
      "Simba está comendo.\n"
     ]
    }
   ],
   "source": [
    "meu_animal = Animal(\"Simba\", 5)\n",
    "meu_animal.comer()"
   ]
  },
  {
   "cell_type": "markdown",
   "metadata": {
    "id": "dDrL5k1poZCk"
   },
   "source": [
    "____\n",
    "____\n",
    "____"
   ]
  },
  {
   "cell_type": "markdown",
   "metadata": {
    "id": "eILXAPeloZCl"
   },
   "source": [
    "## 1) Herança e Polimorfismo"
   ]
  },
  {
   "cell_type": "markdown",
   "metadata": {
    "id": "lQTSTNhFoZCn"
   },
   "source": [
    "Imagine que você tenha várias classes com os mesmos atributos, os mesmos métodos e mesmos parâmetros. \n",
    "\n",
    "Reescrevê-los várias vezes é um desperdício de tempo! Além disso, se pecisarmos atualizar um método, precisaremos fazer a modificação múltiplas vezes. \n",
    "\n",
    "Para solucionar esta questão, trateremos dos conceitos de **herança** e **polimorfismo**.\n"
   ]
  },
  {
   "cell_type": "markdown",
   "metadata": {
    "id": "IATNQFKNoZCn"
   },
   "source": [
    "### Herança\n",
    "\n",
    "É possível criar **classes filhas** que herdem atributos e métodos de uma **classe mãe** através de **herança**.\n",
    "\n",
    "Para herdar, colocamos o **nome da classe mãe entre parênteses** na frente do nome da classe filha em sua definição.\n",
    "\n",
    "Se necessário, podemos redefinir um método na classe filha."
   ]
  },
  {
   "cell_type": "code",
   "execution_count": 57,
   "metadata": {
    "executionInfo": {
     "elapsed": 4,
     "status": "ok",
     "timestamp": 1675971395728,
     "user": {
      "displayName": "Andre Juan",
      "userId": "08529802346316693602"
     },
     "user_tz": 180
    },
    "id": "oVYfcXX2oZCo"
   },
   "outputs": [],
   "source": [
    "class Animal:\n",
    "  def __init__(self, nome):\n",
    "    self.nome = nome\n",
    "\n",
    "  def fala(self):\n",
    "    print(f\"{self.nome} faz barulho!\")"
   ]
  },
  {
   "cell_type": "code",
   "execution_count": 58,
   "metadata": {
    "colab": {
     "base_uri": "https://localhost:8080/"
    },
    "executionInfo": {
     "elapsed": 3,
     "status": "ok",
     "timestamp": 1675971450541,
     "user": {
      "displayName": "Andre Juan",
      "userId": "08529802346316693602"
     },
     "user_tz": 180
    },
    "id": "YCAFLy8urgAB",
    "outputId": "f7ea7b22-2fe4-4deb-8361-43d670962960"
   },
   "outputs": [
    {
     "name": "stdout",
     "output_type": "stream",
     "text": [
      "grilo faz barulho!\n"
     ]
    }
   ],
   "source": [
    "a1 = Animal(\"grilo\")\n",
    "\n",
    "a1.fala()"
   ]
  },
  {
   "cell_type": "code",
   "execution_count": 59,
   "metadata": {
    "executionInfo": {
     "elapsed": 572,
     "status": "ok",
     "timestamp": 1675971939382,
     "user": {
      "displayName": "Andre Juan",
      "userId": "08529802346316693602"
     },
     "user_tz": 180
    },
    "id": "4etmnykJtGqt"
   },
   "outputs": [],
   "source": [
    "class Cachorro(Animal):\n",
    "    \n",
    "  def fala(self):\n",
    "    print(f\"{self.nome} late!\")"
   ]
  },
  {
   "cell_type": "code",
   "execution_count": 60,
   "metadata": {
    "colab": {
     "base_uri": "https://localhost:8080/"
    },
    "executionInfo": {
     "elapsed": 8,
     "status": "ok",
     "timestamp": 1675971940104,
     "user": {
      "displayName": "Andre Juan",
      "userId": "08529802346316693602"
     },
     "user_tz": 180
    },
    "id": "BNhevc3SsNiq",
    "outputId": "ec303e33-936b-49a8-fd52-d2d3eca69b3f"
   },
   "outputs": [
    {
     "name": "stdout",
     "output_type": "stream",
     "text": [
      "léo late!\n"
     ]
    }
   ],
   "source": [
    "c1 = Cachorro(\"léo\")\n",
    "\n",
    "c1.fala()"
   ]
  },
  {
   "cell_type": "code",
   "execution_count": 61,
   "metadata": {
    "colab": {
     "base_uri": "https://localhost:8080/"
    },
    "executionInfo": {
     "elapsed": 4,
     "status": "ok",
     "timestamp": 1675971983950,
     "user": {
      "displayName": "Andre Juan",
      "userId": "08529802346316693602"
     },
     "user_tz": 180
    },
    "id": "07iSOjMatoCs",
    "outputId": "745c9a5d-3ae3-473f-b9bf-4257288e41a3"
   },
   "outputs": [
    {
     "name": "stdout",
     "output_type": "stream",
     "text": [
      "fred mia!\n"
     ]
    }
   ],
   "source": [
    "class Gato(Animal):\n",
    "    \n",
    "  def fala(self):\n",
    "    print(f\"{self.nome} mia!\")\n",
    "\n",
    "g1 = Gato(\"fred\")\n",
    "\n",
    "g1.fala()"
   ]
  },
  {
   "cell_type": "markdown",
   "metadata": {
    "id": "Ep3X7zOEoZCp"
   },
   "source": [
    "Imagine agora que queremos herdar um método **parcialmente**, com a possibilidade de alterá-lo.\n",
    "\n",
    "(Isso é importante, pois se apenas copiássemos o método original, qualquer alteração nele teria de ser feita em todos os locais onde ele é copiado...)\n",
    "\n",
    "Para isso, usamos o método `super()`"
   ]
  },
  {
   "cell_type": "code",
   "execution_count": 62,
   "metadata": {
    "executionInfo": {
     "elapsed": 520,
     "status": "ok",
     "timestamp": 1675972405447,
     "user": {
      "displayName": "Andre Juan",
      "userId": "08529802346316693602"
     },
     "user_tz": 180
    },
    "id": "Jv9P19WdoZCq"
   },
   "outputs": [],
   "source": [
    "class Cachorro(Animal):\n",
    "\n",
    "  def __init__(self, nome, raca, cor_do_pelo):\n",
    "\n",
    "    super().__init__(nome)\n",
    "\n",
    "    self.raca = raca\n",
    "    self.cor_do_pelo = cor_do_pelo\n",
    "\n",
    "    \n",
    "  def fala(self):\n",
    "\n",
    "    super().fala()\n",
    "\n",
    "    print(f\"Mas, por ser um cachorro, {self.nome} late!\")"
   ]
  },
  {
   "cell_type": "code",
   "execution_count": 63,
   "metadata": {
    "colab": {
     "base_uri": "https://localhost:8080/"
    },
    "executionInfo": {
     "elapsed": 350,
     "status": "ok",
     "timestamp": 1675972477751,
     "user": {
      "displayName": "Andre Juan",
      "userId": "08529802346316693602"
     },
     "user_tz": 180
    },
    "id": "1-LaCU0ovXEN",
    "outputId": "4a0bda74-55be-4559-82e9-88c8f83acfd7"
   },
   "outputs": [
    {
     "name": "stdout",
     "output_type": "stream",
     "text": [
      "léo faz barulho!\n",
      "Mas, por ser um cachorro, léo late!\n"
     ]
    }
   ],
   "source": [
    "c2 = Cachorro(\"léo\", \"poodle\", \"branco\")\n",
    "\n",
    "c2.fala()"
   ]
  },
  {
   "cell_type": "markdown",
   "metadata": {
    "id": "55C0a4kcoZCr"
   },
   "source": [
    "### Polimorfismo\n",
    "\n",
    "Do grego, **\"várias formas\"**. A ideia é que um objeto de uma certa classe pode se comportar como objeto de outras classes. \n",
    "\n",
    "Mais especificamente, **objetos de uma classe filha podem também ser tratados como se pertencessem à classe mãe**.\n",
    "\n",
    "O método `isinstance` recebe 2 parâmetros: um objeto e uma classe. \n",
    "\n",
    "Ele retorna True caso o objeto pertenca à classe, e False caso não pertença."
   ]
  },
  {
   "cell_type": "markdown",
   "metadata": {
    "id": "xbGqH1oroZCs"
   },
   "source": [
    "Isso é útil porque uma função que seja feita para lidar com Animal será capaz de lidar com qualquer classe herdeira de Animal com a mesma facilidade."
   ]
  },
  {
   "cell_type": "code",
   "execution_count": 64,
   "metadata": {
    "executionInfo": {
     "elapsed": 7,
     "status": "ok",
     "timestamp": 1675973359020,
     "user": {
      "displayName": "Andre Juan",
      "userId": "08529802346316693602"
     },
     "user_tz": 180
    },
    "id": "NazfZjRWoZCs"
   },
   "outputs": [],
   "source": [
    "g2 = Gato(\"fred\")\n",
    "c2 = Cachorro(\"leo\", \"poodle\", \"branco\")"
   ]
  },
  {
   "cell_type": "code",
   "execution_count": 65,
   "metadata": {
    "colab": {
     "base_uri": "https://localhost:8080/"
    },
    "executionInfo": {
     "elapsed": 248,
     "status": "ok",
     "timestamp": 1675973398222,
     "user": {
      "displayName": "Andre Juan",
      "userId": "08529802346316693602"
     },
     "user_tz": 180
    },
    "id": "CvBg1mLmy9st",
    "outputId": "3120689b-1cfe-4323-dc54-5b752273efd6"
   },
   "outputs": [
    {
     "data": {
      "text/plain": [
       "True"
      ]
     },
     "execution_count": 65,
     "metadata": {},
     "output_type": "execute_result"
    }
   ],
   "source": [
    "isinstance(g2, Gato)"
   ]
  },
  {
   "cell_type": "code",
   "execution_count": 66,
   "metadata": {
    "colab": {
     "base_uri": "https://localhost:8080/"
    },
    "executionInfo": {
     "elapsed": 921,
     "status": "ok",
     "timestamp": 1675973416378,
     "user": {
      "displayName": "Andre Juan",
      "userId": "08529802346316693602"
     },
     "user_tz": 180
    },
    "id": "S9nOfFMozIuG",
    "outputId": "ec9b3683-9b75-4f7f-d6f7-a63e0d15646e"
   },
   "outputs": [
    {
     "data": {
      "text/plain": [
       "True"
      ]
     },
     "execution_count": 66,
     "metadata": {},
     "output_type": "execute_result"
    }
   ],
   "source": [
    "isinstance(c2, Cachorro)"
   ]
  },
  {
   "cell_type": "code",
   "execution_count": 67,
   "metadata": {
    "colab": {
     "base_uri": "https://localhost:8080/"
    },
    "executionInfo": {
     "elapsed": 224,
     "status": "ok",
     "timestamp": 1675973467686,
     "user": {
      "displayName": "Andre Juan",
      "userId": "08529802346316693602"
     },
     "user_tz": 180
    },
    "id": "oDeLtrDyzMwD",
    "outputId": "4a1707a1-e40b-4001-fc14-0d07e42b71b3"
   },
   "outputs": [
    {
     "data": {
      "text/plain": [
       "True"
      ]
     },
     "execution_count": 67,
     "metadata": {},
     "output_type": "execute_result"
    }
   ],
   "source": [
    "isinstance(g2, Animal)"
   ]
  },
  {
   "cell_type": "code",
   "execution_count": 68,
   "metadata": {
    "colab": {
     "base_uri": "https://localhost:8080/"
    },
    "executionInfo": {
     "elapsed": 8,
     "status": "ok",
     "timestamp": 1675973498889,
     "user": {
      "displayName": "Andre Juan",
      "userId": "08529802346316693602"
     },
     "user_tz": 180
    },
    "id": "BXB-ZbkdzZrA",
    "outputId": "c47298ff-e9e2-46be-b807-27f143e873e5"
   },
   "outputs": [
    {
     "data": {
      "text/plain": [
       "True"
      ]
     },
     "execution_count": 68,
     "metadata": {},
     "output_type": "execute_result"
    }
   ],
   "source": [
    "isinstance(c2, Animal)"
   ]
  },
  {
   "cell_type": "code",
   "execution_count": 69,
   "metadata": {
    "colab": {
     "base_uri": "https://localhost:8080/"
    },
    "executionInfo": {
     "elapsed": 244,
     "status": "ok",
     "timestamp": 1675973596657,
     "user": {
      "displayName": "Andre Juan",
      "userId": "08529802346316693602"
     },
     "user_tz": 180
    },
    "id": "_uLsx5hvzhLX",
    "outputId": "fec6e8cd-0387-415d-97bd-c192d84a6bec"
   },
   "outputs": [
    {
     "data": {
      "text/plain": [
       "False"
      ]
     },
     "execution_count": 69,
     "metadata": {},
     "output_type": "execute_result"
    }
   ],
   "source": [
    "isinstance(g2, Cachorro)"
   ]
  },
  {
   "cell_type": "code",
   "execution_count": 70,
   "metadata": {
    "colab": {
     "base_uri": "https://localhost:8080/"
    },
    "executionInfo": {
     "elapsed": 244,
     "status": "ok",
     "timestamp": 1675973606991,
     "user": {
      "displayName": "Andre Juan",
      "userId": "08529802346316693602"
     },
     "user_tz": 180
    },
    "id": "be0svF8uz5IX",
    "outputId": "214b7541-db95-4399-fcee-6dc221f51b96"
   },
   "outputs": [
    {
     "data": {
      "text/plain": [
       "False"
      ]
     },
     "execution_count": 70,
     "metadata": {},
     "output_type": "execute_result"
    }
   ],
   "source": [
    "isinstance(c2, Gato)"
   ]
  },
  {
   "cell_type": "code",
   "execution_count": 71,
   "metadata": {
    "colab": {
     "base_uri": "https://localhost:8080/"
    },
    "executionInfo": {
     "elapsed": 264,
     "status": "ok",
     "timestamp": 1675973655623,
     "user": {
      "displayName": "Andre Juan",
      "userId": "08529802346316693602"
     },
     "user_tz": 180
    },
    "id": "atiRIt6wz7lt",
    "outputId": "e18022c2-7a82-40f5-8dc3-c330d12bd953"
   },
   "outputs": [
    {
     "data": {
      "text/plain": [
       "False"
      ]
     },
     "execution_count": 71,
     "metadata": {},
     "output_type": "execute_result"
    }
   ],
   "source": [
    "nome = \"ada\"\n",
    "\n",
    "isinstance(nome, int)"
   ]
  }
 ],
 "metadata": {
  "colab": {
   "provenance": []
  },
  "kernelspec": {
   "display_name": "Python 3",
   "language": "python",
   "name": "python3"
  },
  "language_info": {
   "codemirror_mode": {
    "name": "ipython",
    "version": 3
   },
   "file_extension": ".py",
   "mimetype": "text/x-python",
   "name": "python",
   "nbconvert_exporter": "python",
   "pygments_lexer": "ipython3",
   "version": "3.12.8"
  }
 },
 "nbformat": 4,
 "nbformat_minor": 0
}
